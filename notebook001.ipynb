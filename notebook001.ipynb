{
 "cells": [
  {
   "cell_type": "code",
   "execution_count": null,
   "id": "86669a8c",
   "metadata": {},
   "outputs": [],
   "source": [
    "import cuda as cu\n",
    "print(f\"{cu.__version__=}\")\n",
    "from cuda import cuda\n"
   ]
  },
  {
   "cell_type": "code",
   "execution_count": null,
   "id": "4d5f47ae",
   "metadata": {},
   "outputs": [],
   "source": [
    "cuda.cuInit(0)\n",
    "_, dev = cuda.cuDeviceGet(0)\n",
    "dev"
   ]
  },
  {
   "cell_type": "code",
   "execution_count": null,
   "id": "393a1bea",
   "metadata": {},
   "outputs": [],
   "source": [
    "_, d_x = cuda.cuMemAlloc(100)\n",
    "d_x.getPtr()"
   ]
  },
  {
   "cell_type": "code",
   "execution_count": null,
   "id": "c35c85e1",
   "metadata": {},
   "outputs": [],
   "source": [
    "cuda.cuMemFree(d_x)\n"
   ]
  }
 ],
 "metadata": {
  "kernelspec": {
   "display_name": "Python 3 (ipykernel)",
   "language": "python",
   "name": "python3"
  },
  "language_info": {
   "codemirror_mode": {
    "name": "ipython",
    "version": 3
   },
   "file_extension": ".py",
   "mimetype": "text/x-python",
   "name": "python",
   "nbconvert_exporter": "python",
   "pygments_lexer": "ipython3",
   "version": "3.10.11"
  }
 },
 "nbformat": 4,
 "nbformat_minor": 5
}
