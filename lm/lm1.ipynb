{
 "cells": [
  {
   "attachments": {},
   "cell_type": "markdown",
   "metadata": {},
   "source": [
    "# Predict name based on first several letters"
   ]
  },
  {
   "cell_type": "code",
   "execution_count": 225,
   "metadata": {},
   "outputs": [
    {
     "name": "stdout",
     "output_type": "stream",
     "text": [
      "torch.cuda.is_available()=True\n",
      "cuda:0\n"
     ]
    }
   ],
   "source": [
    "import torch\n",
    "import torch.nn.functional as F\n",
    "import random\n",
    "import numpy as np\n",
    "print(f\"{torch.cuda.is_available()=}\")\n",
    "device=\"cpu\"\n",
    "if torch.cuda.is_available():\n",
    "    device=\"cuda:0\"\n",
    "print(device)"
   ]
  },
  {
   "cell_type": "code",
   "execution_count": 226,
   "metadata": {},
   "outputs": [
    {
     "name": "stdout",
     "output_type": "stream",
     "text": [
      "{'.': 0, 'a': 1, 'b': 2, 'c': 3, 'd': 4, 'e': 5, 'f': 6, 'g': 7, 'h': 8, 'i': 9, 'j': 10, 'k': 11, 'l': 12, 'm': 13, 'n': 14, 'o': 15, 'p': 16, 'q': 17, 'r': 18, 's': 19, 't': 20, 'u': 21, 'v': 22, 'w': 23, 'x': 24, 'y': 25, 'z': 26}\n",
      "voc_size=27\n"
     ]
    }
   ],
   "source": [
    "import string\n",
    "itos = {0:'.'}\n",
    "for i, c in enumerate(string.ascii_lowercase):\n",
    "    itos[i+1]=c  \n",
    "stoi = {s:i for i, s in itos.items()}\n",
    "print(stoi)\n",
    "voc_size=len(itos)\n",
    "print(f\"{voc_size=}\")"
   ]
  },
  {
   "cell_type": "code",
   "execution_count": 227,
   "metadata": {},
   "outputs": [],
   "source": [
    "def encode(ss):\n",
    "    res = [stoi[c] for c in ss]\n",
    "    return res\n",
    "\n",
    "def decode(ii, tilldot=False):\n",
    "    ch = False\n",
    "    res = []\n",
    "    for i in ii:\n",
    "        if i == 0 and tilldot and ch:\n",
    "            break\n",
    "        if not(ch) and i != 0:\n",
    "            ch = True\n",
    "        res.append(itos[i])\n",
    "    return ''.join(res)"
   ]
  },
  {
   "cell_type": "code",
   "execution_count": 228,
   "metadata": {},
   "outputs": [
    {
     "name": "stdout",
     "output_type": "stream",
     "text": [
      "['yuheng', 'diondre', 'xavien']\n",
      "32033\n"
     ]
    }
   ],
   "source": [
    "names_f = \"names.txt\"\n",
    "with open(names_f) as f:\n",
    "    words = f.read().splitlines()\n",
    "\n",
    "random.seed(42)\n",
    "random.shuffle(words)\n",
    "print(words[:3])\n",
    "print(len(words))"
   ]
  },
  {
   "cell_type": "code",
   "execution_count": 229,
   "metadata": {},
   "outputs": [],
   "source": [
    "def add_word(w, bsz, X, Y):\n",
    "    x = \".\"*bsz\n",
    "    xi = [0]*bsz\n",
    "    for y in w:\n",
    "        yi = stoi[y]\n",
    "        X.append(xi)\n",
    "        Y.append(yi)\n",
    "        xi = xi[1:]\n",
    "        xi.append(yi)\n",
    "    X.append(xi)\n",
    "    Y.append(0)"
   ]
  },
  {
   "cell_type": "code",
   "execution_count": 230,
   "metadata": {},
   "outputs": [
    {
     "name": "stdout",
     "output_type": "stream",
     "text": [
      "X.shape=torch.Size([228146, 3])\n",
      "Y.shape=torch.Size([228146])\n"
     ]
    }
   ],
   "source": [
    "att=3\n",
    "emb=3\n",
    "hidden = 100\n",
    "\n",
    "Xa, Ya = [], []\n",
    "for w in words:\n",
    "    add_word(w, att, Xa, Ya)\n",
    "X = torch.tensor(Xa, device=device)\n",
    "Y = torch.tensor(Ya, device=device)\n",
    "print(f\"{X.shape=}\")\n",
    "print(f\"{Y.shape=}\")"
   ]
  },
  {
   "cell_type": "code",
   "execution_count": 231,
   "metadata": {},
   "outputs": [
    {
     "name": "stdout",
     "output_type": "stream",
     "text": [
      "Split Global Dataset on lines: 182516 205331\n",
      "X_tr.shape=torch.Size([182516, 3])\n",
      "X_val.shape=torch.Size([22815, 3])\n",
      "X_tst.shape=torch.Size([22815, 3])\n"
     ]
    }
   ],
   "source": [
    "n1 = int(len(X) * 0.8)\n",
    "n2 = int(len(X) * 0.9)\n",
    "print(\"Split Global Dataset on lines:\", n1, n2)\n",
    "X_tr = X[:n1]\n",
    "Y_tr = Y[:n1]\n",
    "X_val = X[n1:n2]\n",
    "Y_val = Y[n1:n2]\n",
    "X_tst = X[n2:]\n",
    "Y_tst = Y[n2:]\n",
    "print(f\"{X_tr.shape=}\")\n",
    "print(f\"{X_val.shape=}\")\n",
    "print(f\"{X_tst.shape=}\")"
   ]
  },
  {
   "cell_type": "code",
   "execution_count": 232,
   "metadata": {},
   "outputs": [
    {
     "name": "stdout",
     "output_type": "stream",
     "text": [
      "nparams=3808\n"
     ]
    }
   ],
   "source": [
    "torch.manual_seed(42)\n",
    "\n",
    "E_w = torch.rand(voc_size, emb, device=device)\n",
    "H0_w = torch.rand(size=(emb*att, hidden), device=device)\n",
    "H0_b = torch.rand(size=(hidden,), device=device)\n",
    "H1_w = torch.rand(size=(hidden, voc_size), device=device)\n",
    "H1_b = torch.rand(size=(voc_size,), device=device)\n",
    "params = [E_w, H0_w, H0_b, H1_w, H1_b]\n",
    "nparams = sum([t.numel() for t in params])\n",
    "print(f\"{nparams=}\")\n",
    "for t in params:\n",
    "    t.requires_grad_()"
   ]
  },
  {
   "cell_type": "code",
   "execution_count": 233,
   "metadata": {},
   "outputs": [],
   "source": [
    "def forward(X):\n",
    "    Ey = E_w[X].flatten(1, 2)\n",
    "    H0_y = torch.tanh(Ey @ H0_w + H0_b)\n",
    "    L = H0_y @ H1_w + H1_b\n",
    "    return L\n",
    "\n",
    "def calc_loss(L, Y):\n",
    "    return F.cross_entropy(L, Y)\n",
    "\n",
    "def backward(loss: torch.Tensor):\n",
    "    for p in params:\n",
    "        if p.grad is not None:\n",
    "            p.grad.zero_()\n",
    "    loss.backward()\n",
    "\n",
    "def update_params(step):\n",
    "    for p in params:\n",
    "        p.data -= step * p.grad\n"
   ]
  },
  {
   "cell_type": "code",
   "execution_count": 234,
   "metadata": {},
   "outputs": [],
   "source": [
    "def get_batch(X0, Y0, n):\n",
    "    rids = torch.randint(0, n1, (n,), device=device)\n",
    "    return X0[rids], Y0[rids]"
   ]
  },
  {
   "cell_type": "code",
   "execution_count": 235,
   "metadata": {},
   "outputs": [],
   "source": [
    "LL=[]\n",
    "\n",
    "batch = 32\n",
    "X0, Y0 = get_batch(X_tr, Y_tr, batch)"
   ]
  },
  {
   "cell_type": "code",
   "execution_count": 236,
   "metadata": {},
   "outputs": [
    {
     "name": "stdout",
     "output_type": "stream",
     "text": [
      "No Training. loss: 6.151524543762207\n",
      "After Initial training. loss:  2.520336627960205\n",
      "Step 0.1 done. Loss: 2.473984956741333\n",
      "Step 0.03 done. Loss: 2.7844595909118652\n",
      "Step 0.01 done. Loss: 2.7061140298843385\n",
      "Step 0.003 done. Loss: 2.831630229949951\n",
      "Step 0.0001 done. Loss: 2.75229651927948\n"
     ]
    }
   ],
   "source": [
    "# Training Loop\n",
    "L = forward(X0)\n",
    "loss = calc_loss(L, Y0)\n",
    "print(\"No Training. loss:\", loss.item())\n",
    "\n",
    "# initial training\n",
    "for i in range(200):\n",
    "    backward(loss)\n",
    "    update_params(0.1)\n",
    "    X0, Y0 = get_batch(X_tr, Y_tr, batch)\n",
    "    L = forward(X0)\n",
    "    loss = calc_loss(L, Y0)\n",
    "print(\"After Initial training. loss: \", loss.item())\n",
    "\n",
    "N = 10\n",
    "steps=[0.1, 0.03, 0.01, 0.003, 0.0001]\n",
    "#steps=[0.01]\n",
    "#steps=[0.03]\n",
    "#steps=[0.0001]\n",
    "WIN = []\n",
    "for step in steps:\n",
    "    for i in range(N):\n",
    "        backward(loss)\n",
    "        update_params(step)\n",
    "        X0, Y0 = get_batch(X_tr, Y_tr, batch)\n",
    "        L = forward(X0)\n",
    "        loss = calc_loss(L, Y0)\n",
    "        WIN.append(loss.item())\n",
    "        if i % 200 == 0:\n",
    "          LL.append(np.mean(WIN))\n",
    "          WIN = []\n",
    "        \n",
    "    print(f\"Step {step} done. Loss: {LL[-1]}\")"
   ]
  },
  {
   "cell_type": "code",
   "execution_count": 217,
   "metadata": {},
   "outputs": [
    {
     "name": "stdout",
     "output_type": "stream",
     "text": [
      "Validation loss tensor(2.2857, device='cuda:0', grad_fn=<NllLossBackward0>)\n",
      "Test loss tensor(2.2858, device='cuda:0', grad_fn=<NllLossBackward0>)\n"
     ]
    }
   ],
   "source": [
    "# Validation / Test\n",
    "L = forward(X_val)\n",
    "loss = calc_loss(L, Y_val)\n",
    "print(\"Validation loss\", loss)\n",
    "\n",
    "L = forward(X_tst)\n",
    "loss = calc_loss(L, Y_tst)\n",
    "print(\"Test loss\", loss)"
   ]
  },
  {
   "cell_type": "code",
   "execution_count": 218,
   "metadata": {},
   "outputs": [
    {
     "data": {
      "image/png": "[encoded data removed]",
      "text/plain": [
       "<Figure size 2000x500 with 1 Axes>"
      ]
     },
     "metadata": {},
     "output_type": "display_data"
    },
    {
     "name": "stdout",
     "output_type": "stream",
     "text": [
      "Tail of Moving Average column\n"
     ]
    },
    {
     "data": {
      "text/plain": [
       "240    2.291715\n",
       "241    2.291045\n",
       "242    2.290832\n",
       "243    2.291066\n",
       "244    2.291209\n",
       "245    2.291117\n",
       "246    2.290723\n",
       "247    2.292380\n",
       "248    2.292798\n",
       "249    2.291655\n",
       "Name: X, dtype: float64"
      ]
     },
     "execution_count": 218,
     "metadata": {},
     "output_type": "execute_result"
    }
   ],
   "source": [
    "# Plot loss\n",
    "import matplotlib.pyplot as plt\n",
    "import pandas as pd\n",
    "\n",
    "df = pd.DataFrame(LL, columns=['X'])\n",
    "X_col=df['X']\n",
    "MA_X_col = df['X'].rolling(window=20).mean()\n",
    "plt.figure(figsize=(20, 5))\n",
    "plt.plot(X_col, 'b-', label='loss')\n",
    "plt.plot(MA_X_col, 'r-', label='MA20')\n",
    "plt.grid(linestyle='--')\n",
    "plt.legend(loc='upper center')\n",
    "plt.show()\n",
    "print(\"Tail of Moving Average column\")\n",
    "MA_X_col[-10:]"
   ]
  },
  {
   "cell_type": "code",
   "execution_count": 219,
   "metadata": {},
   "outputs": [
    {
     "name": "stdout",
     "output_type": "stream",
     "text": [
      "emmarian\n"
     ]
    }
   ],
   "source": [
    "s=encode(\"emm\")\n",
    "\n",
    "for i in range(100):\n",
    "    x = torch.tensor([s[-att:]], device=device)\n",
    "    L = forward(x)\n",
    "    ci = int(torch.argmax(L).item())\n",
    "    c = itos[ci]\n",
    "    if ci == 0:\n",
    "        break\n",
    "    s += [ci]\n",
    "print(decode(s))"
   ]
  },
  {
   "cell_type": "code",
   "execution_count": 220,
   "metadata": {},
   "outputs": [
    {
     "name": "stdout",
     "output_type": "stream",
     "text": [
      "kyma     kymberlynn\n",
      "parian     parrish\n",
      "hous     houstyn\n",
      "jamarian     jamaya\n",
      "ahmin     ahmod\n",
      "niva     nivin\n",
      "milla     milli\n",
      "crie     cristiana\n",
      "jaila     jaimee\n",
      "mita     mitchell\n",
      "nai     nairah\n",
      "lor     lorena\n",
      "gen     gentrie\n",
      "tor     torrion\n",
      "savie     savian\n",
      "ben     benjamine\n",
      "aira     airess\n",
      "knue     knute\n",
      "sulla     sultana\n",
      "dan     danai\n",
      "azzin     azzan\n",
      "iss     issabelle\n",
      "abrie     abrahim\n",
      "aish     aislyn\n",
      "aera     aerys\n"
     ]
    }
   ],
   "source": [
    "beg = []\n",
    "batch = words[30:55]\n",
    "for w in batch:\n",
    "    if len(w) < att:\n",
    "        w = \".\" * (len(w) - att) + w\n",
    "    beg.append(encode(w[:att]))\n",
    "x = torch.tensor(beg, device=device)\n",
    "#print(x)\n",
    "for i in range(7):\n",
    "    L = forward(x[:,-att:])\n",
    "    y = torch.argmax(L, dim=1, keepdim=True)\n",
    "    x = torch.cat([x,y],dim=-1)\n",
    "for i, row in enumerate(x.detach().cpu().numpy()):\n",
    "    print(decode(row, True), \"   \", batch[i])\n"
   ]
  }
 ],
 "metadata": {
  "kernelspec": {
   "display_name": "Python 3",
   "language": "python",
   "name": "python3"
  },
  "language_info": {
   "codemirror_mode": {
    "name": "ipython",
    "version": 3
   },
   "file_extension": ".py",
   "mimetype": "text/x-python",
   "name": "python",
   "nbconvert_exporter": "python",
   "pygments_lexer": "ipython3",
   "version": "3.10.11"
  },
  "orig_nbformat": 4
 },
 "nbformat": 4,
 "nbformat_minor": 2
}
