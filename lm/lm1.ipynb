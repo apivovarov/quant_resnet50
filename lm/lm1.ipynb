{
 "cells": [
  {
   "attachments": {},
   "cell_type": "markdown",
   "metadata": {},
   "source": [
    "# Predict name based on first several letters"
   ]
  },
  {
   "cell_type": "code",
   "execution_count": 212,
   "metadata": {},
   "outputs": [
    {
     "name": "stdout",
     "output_type": "stream",
     "text": [
      "torch.cuda.is_available()=True\n"
     ]
    }
   ],
   "source": [
    "import torch\n",
    "import torch.nn.functional as F\n",
    "import random\n",
    "print(f\"{torch.cuda.is_available()=}\")"
   ]
  },
  {
   "cell_type": "code",
   "execution_count": 51,
   "metadata": {},
   "outputs": [
    {
     "name": "stdout",
     "output_type": "stream",
     "text": [
      "{'.': 0, 'a': 1, 'b': 2, 'c': 3, 'd': 4, 'e': 5, 'f': 6, 'g': 7, 'h': 8, 'i': 9, 'j': 10, 'k': 11, 'l': 12, 'm': 13, 'n': 14, 'o': 15, 'p': 16, 'q': 17, 'r': 18, 's': 19, 't': 20, 'u': 21, 'v': 22, 'w': 23, 'x': 24, 'y': 25, 'z': 26}\n"
     ]
    }
   ],
   "source": [
    "import string\n",
    "itos = {0:'.'}\n",
    "for i, c in enumerate(string.ascii_lowercase):\n",
    "    itos[i+1]=c  \n",
    "stoi = {s:i for i, s in itos.items()}\n",
    "print(stoi)"
   ]
  },
  {
   "cell_type": "code",
   "execution_count": 439,
   "metadata": {},
   "outputs": [],
   "source": [
    "def encode(ss):\n",
    "    res = [stoi[c] for c in ss]\n",
    "    return res\n",
    "\n",
    "def decode(ii, tilldot=False):\n",
    "    ch = False\n",
    "    res = []\n",
    "    for i in ii:\n",
    "        if i == 0 and tilldot and ch:\n",
    "            break\n",
    "        if not(ch) and i != 0:\n",
    "            ch = True\n",
    "        res.append(itos[i])\n",
    "    return ''.join(res)"
   ]
  },
  {
   "cell_type": "code",
   "execution_count": 30,
   "metadata": {},
   "outputs": [
    {
     "name": "stdout",
     "output_type": "stream",
     "text": [
      "['yuheng', 'diondre', 'xavien']\n",
      "32033\n"
     ]
    }
   ],
   "source": [
    "names_f = \"names.txt\"\n",
    "with open(names_f) as f:\n",
    "    words = f.read().splitlines()\n",
    "\n",
    "random.seed(42)\n",
    "random.shuffle(words)\n",
    "print(words[:3])\n",
    "print(len(words))"
   ]
  },
  {
   "cell_type": "code",
   "execution_count": 99,
   "metadata": {},
   "outputs": [
    {
     "data": {
      "text/plain": [
       "[1, 2, 3, 4]"
      ]
     },
     "execution_count": 99,
     "metadata": {},
     "output_type": "execute_result"
    }
   ],
   "source": [
    "aaa=[1,2,3]\n",
    "aaa.append(4)\n",
    "aaa"
   ]
  },
  {
   "cell_type": "code",
   "execution_count": 105,
   "metadata": {},
   "outputs": [
    {
     "data": {
      "text/plain": [
       "'.....'"
      ]
     },
     "execution_count": 105,
     "metadata": {},
     "output_type": "execute_result"
    }
   ],
   "source": [
    "\".\"*5\n"
   ]
  },
  {
   "cell_type": "code",
   "execution_count": 106,
   "metadata": {},
   "outputs": [],
   "source": [
    "def add_word(w, bsz, X, Y):\n",
    "    x = \".\"*bsz\n",
    "    xi = [0]*bsz\n",
    "    for y in w:\n",
    "        yi = stoi[y]\n",
    "        X.append(xi)\n",
    "        Y.append(yi)\n",
    "        xi = xi[1:]\n",
    "        xi.append(yi)\n",
    "    X.append(xi)\n",
    "    Y.append(0)"
   ]
  },
  {
   "cell_type": "code",
   "execution_count": 408,
   "metadata": {},
   "outputs": [
    {
     "name": "stdout",
     "output_type": "stream",
     "text": [
      "228146\n",
      "X.shape=torch.Size([228146, 4])\n",
      "Y.shape=torch.Size([228146])\n"
     ]
    }
   ],
   "source": [
    "Xa, Ya = [], []\n",
    "for w in words:\n",
    "    add_word(w, 4, Xa, Ya)\n",
    "print(len(Xa))\n",
    "X = torch.tensor(Xa)\n",
    "Y = torch.tensor(Ya)\n",
    "print(f\"{X.shape=}\")\n",
    "print(f\"{Y.shape=}\")"
   ]
  },
  {
   "cell_type": "code",
   "execution_count": 409,
   "metadata": {},
   "outputs": [
    {
     "name": "stdout",
     "output_type": "stream",
     "text": [
      "182516 205331\n",
      "X_tr.shape=torch.Size([182516, 4])\n"
     ]
    }
   ],
   "source": [
    "n1 = int(len(X) * 0.8)\n",
    "n2 = int(len(X) * 0.9)\n",
    "print(n1, n2)\n",
    "X_tr = X[:n1]\n",
    "Y_tr = Y[:n1]\n",
    "X_val = X[n1:n2]\n",
    "Y_val = Y[n1:n2]\n",
    "X_tst = X[n2:]\n",
    "Y_tst = Y[n2:]\n",
    "print(f\"{X_tr.shape=}\")"
   ]
  },
  {
   "cell_type": "code",
   "execution_count": 410,
   "metadata": {},
   "outputs": [],
   "source": [
    "att=4\n",
    "emb=3\n",
    "hidden = 100\n",
    "\n",
    "torch.manual_seed(0)\n",
    "\n",
    "E_w = torch.rand(27, emb)\n",
    "H0_w = torch.rand(size=(emb*att, hidden))\n",
    "H0_b = torch.rand(size=(hidden,))\n",
    "H1_w = torch.rand(size=(hidden, 27))\n",
    "H1_b = torch.rand(size=(27,))"
   ]
  },
  {
   "cell_type": "code",
   "execution_count": 411,
   "metadata": {},
   "outputs": [
    {
     "name": "stdout",
     "output_type": "stream",
     "text": [
      "nparams=4108\n"
     ]
    }
   ],
   "source": [
    "params = [E_w, H0_w, H0_b, H1_w, H1_b]\n",
    "nparams = sum([t.numel() for t in params])\n",
    "print(f\"{nparams=}\")\n",
    "for t in params:\n",
    "    t.requires_grad_()"
   ]
  },
  {
   "cell_type": "code",
   "execution_count": 412,
   "metadata": {},
   "outputs": [],
   "source": [
    "def forward(X):\n",
    "    Ey = E_w[X].flatten(1, 2)\n",
    "    H0_y = torch.tanh(Ey @ H0_w + H0_b)\n",
    "    L = H0_y @ H1_w + H1_b\n",
    "    return L\n",
    "\n",
    "def calc_loss(L, Y):\n",
    "    return F.cross_entropy(L, Y)\n",
    "\n",
    "def backward(loss: torch.Tensor):\n",
    "    for p in params:\n",
    "        if p.grad is not None:\n",
    "            p.grad.zero_()\n",
    "    loss.backward()\n",
    "\n",
    "def update_params(step):\n",
    "    for p in params:\n",
    "        p.data -= step * p.grad\n"
   ]
  },
  {
   "cell_type": "code",
   "execution_count": 413,
   "metadata": {},
   "outputs": [],
   "source": [
    "def get_batch(X0, Y0, n):\n",
    "    rids = torch.randint(0, n1, (n,))\n",
    "    return X0[rids], Y0[rids]"
   ]
  },
  {
   "cell_type": "code",
   "execution_count": 441,
   "metadata": {},
   "outputs": [
    {
     "name": "stdout",
     "output_type": "stream",
     "text": [
      "tensor(2.3403, grad_fn=<NllLossBackward0>)\n",
      "tensor(2.4568, grad_fn=<NllLossBackward0>)\n"
     ]
    }
   ],
   "source": [
    "\n",
    "batch = 32\n",
    "X0, Y0 = get_batch(X_tr, Y_tr, batch)\n",
    "\n",
    "L = forward(X0)\n",
    "loss = calc_loss(L, Y0)\n",
    "print(loss)\n",
    "\n",
    "N = 10000\n",
    "step = 0.01\n",
    "for i in range(N):\n",
    "    backward(loss)\n",
    "    update_params(step)\n",
    "    X0, Y0 = get_batch(X_tr, Y_tr, batch)\n",
    "    L = forward(X0)\n",
    "    loss = calc_loss(L, Y0)\n",
    "print(loss)\n"
   ]
  },
  {
   "cell_type": "code",
   "execution_count": 442,
   "metadata": {},
   "outputs": [
    {
     "name": "stdout",
     "output_type": "stream",
     "text": [
      "Validation loss tensor(2.2963, grad_fn=<NllLossBackward0>)\n",
      "Test loss tensor(2.3015, grad_fn=<NllLossBackward0>)\n"
     ]
    }
   ],
   "source": [
    "L = forward(X_val)\n",
    "loss = calc_loss(L, Y_val)\n",
    "print(\"Validation loss\", loss)\n",
    "\n",
    "L = forward(X_tst)\n",
    "loss = calc_loss(L, Y_tst)\n",
    "print(\"Test loss\", loss)"
   ]
  },
  {
   "cell_type": "code",
   "execution_count": 435,
   "metadata": {},
   "outputs": [
    {
     "name": "stdout",
     "output_type": "stream",
     "text": [
      ".alen\n"
     ]
    }
   ],
   "source": [
    "s=encode(\".ale\")\n",
    "\n",
    "for i in range(100):\n",
    "    x = torch.tensor([s[-4:]])\n",
    "    L = forward(x)\n",
    "    ci = int(torch.argmax(L).item())\n",
    "    c = itos[ci]\n",
    "    #print(c)\n",
    "    if ci == 0:\n",
    "        break\n",
    "    s += [ci]\n",
    "print(decode(s))"
   ]
  },
  {
   "cell_type": "code",
   "execution_count": 445,
   "metadata": {},
   "outputs": [
    {
     "name": "stdout",
     "output_type": "stream",
     "text": [
      "kymb     kymberlynn\n",
      "parrie     parrish\n",
      "hous     houstyn\n",
      "jamarie     jamaya\n",
      "ahmon     ahmod\n",
      "nivin     nivin\n",
      "milla     milli\n",
      "crise     cristiana\n",
      "jaima     jaimee\n",
      "mitcen     mitchell\n",
      "nair     nairah\n",
      "lore     lorena\n",
      "gente     gentrie\n",
      "torrie     torrion\n",
      "savie     savian\n",
      "benja     benjamine\n",
      "aire     airess\n",
      "knut     knute\n",
      "sultan     sultana\n",
      "dana     danai\n",
      "azzan     azzan\n",
      "issa     issabelle\n",
      "abra     abrahim\n",
      "aisley     aislyn\n",
      "aery     aerys\n"
     ]
    }
   ],
   "source": [
    "beg = []\n",
    "batch = words[30:55]\n",
    "for w in batch:\n",
    "    if len(w) == 3:\n",
    "        w = \".\" + w\n",
    "    beg.append(encode(w[:4]))\n",
    "x = torch.tensor(beg)\n",
    "#print(x)\n",
    "for i in range(7):\n",
    "    L = forward(x[:,-4:])\n",
    "    y = torch.argmax(L, dim=1, keepdim=True)\n",
    "    x = torch.cat([x,y],dim=-1)\n",
    "for i, row in enumerate(x.numpy()):\n",
    "    print(decode(row, True), \"   \", batch[i])\n"
   ]
  }
 ],
 "metadata": {
  "kernelspec": {
   "display_name": "Python 3",
   "language": "python",
   "name": "python3"
  },
  "language_info": {
   "codemirror_mode": {
    "name": "ipython",
    "version": 3
   },
   "file_extension": ".py",
   "mimetype": "text/x-python",
   "name": "python",
   "nbconvert_exporter": "python",
   "pygments_lexer": "ipython3",
   "version": "3.10.11"
  },
  "orig_nbformat": 4
 },
 "nbformat": 4,
 "nbformat_minor": 2
}
