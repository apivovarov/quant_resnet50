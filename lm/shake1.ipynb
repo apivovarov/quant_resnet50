{
 "cells": [
  {
   "cell_type": "code",
   "execution_count": null,
   "metadata": {},
   "outputs": [],
   "source": [
    "import torch\n",
    "import torch.nn as nn\n",
    "import torch.nn.functional as F\n",
    "import numpy as np\n",
    "import matplotlib.pyplot as plt\n",
    "print(f\"{torch.cuda.is_available()=}\")\n",
    "device=\"cpu\"\n",
    "if torch.cuda.is_available():\n",
    "    device=\"cuda:0\"\n",
    "print(device)"
   ]
  },
  {
   "cell_type": "code",
   "execution_count": null,
   "metadata": {},
   "outputs": [],
   "source": [
    "names_f = \"tinyshakespeare/input.txt\"\n",
    "with open(names_f) as f:\n",
    "    text = f.read()\n",
    "\n",
    "#random.seed(42)\n",
    "print(text[:30])\n",
    "print(f\"{len(text)=}\")\n",
    "\n",
    "chars = sorted(set(text))\n",
    "voc_size = len(chars)\n",
    "print(f\"{chars[:100]=}\")\n",
    "print(f\"{voc_size=}\")\n",
    "\n",
    "itos = dict()\n",
    "stoi = dict()\n",
    "for i, c in enumerate(chars):\n",
    "    itos[i] = c\n",
    "    stoi[c] = i\n",
    "def encode(ss):\n",
    "    return [stoi[c] for c in ss]\n",
    "def decode(ii):\n",
    "    return ''.join([itos[i] for i in ii])\n",
    "print(encode(\"Hello\\nWorld\"))\n",
    "print(decode(encode(\"Hello\\nWorld\")))\n",
    "\n",
    "data = torch.tensor(encode(text), dtype=torch.long, device=device)\n",
    "print(f\"{data.shape=}\")\n",
    "print(data[:30])\n",
    "n = int(0.9*len(data))\n",
    "train_data = data[:n]\n",
    "val_data = data[n:]\n"
   ]
  },
  {
   "cell_type": "code",
   "execution_count": null,
   "metadata": {},
   "outputs": [],
   "source": [
    "block_size = 8\n",
    "\n",
    "def get_batch(data, batch_size, device=None):\n",
    "    ix = torch.randint(low=0,high=len(data)-block_size-1, size=(batch_size,), device=device)\n",
    "    x = torch.stack([data[i : i+block_size] for i in ix], device=device)\n",
    "    y = torch.stack([data[i+1 : i+block_size+1] for i in ix], device=device)\n",
    "    return x, y"
   ]
  },
  {
   "cell_type": "code",
   "execution_count": null,
   "metadata": {},
   "outputs": [],
   "source": [
    "class BigramModel(nn.Module):\n",
    "    def __init__(self, voc_size) -> None:\n",
    "        super().__init__()\n",
    "        self.emb = nn.Embedding(voc_size, voc_size)\n",
    "    def forward(self, ids):\n",
    "        logits = self.emb(ids)\n",
    "        return logits\n",
    "    def calc_loss(self, logits, Y):\n",
    "        logits = logits.transpose(1,2)\n",
    "        return F.cross_entropy(logits, Y)\n",
    "    @torch.no_grad()\n",
    "    def generate(self, ids, max_new_tokens):\n",
    "        for i in range(max_new_tokens):\n",
    "            logits = self(ids)\n",
    "            logits = logits[:,-1,:]\n",
    "            prob = torch.softmax(logits, dim=-1)\n",
    "            y = torch.multinomial(prob, num_samples=1)\n",
    "            xx = torch.cat((ids, y), dim=-1)\n",
    "        return xx.detach().cpu().numpy()"
   ]
  },
  {
   "cell_type": "code",
   "execution_count": null,
   "metadata": {},
   "outputs": [],
   "source": [
    "model = BigramModel(voc_size=voc_size).to(device)\n",
    "lossi = []\n",
    "print(\"Numel:\", sum([p.numel() for p in model.parameters()]))"
   ]
  },
  {
   "cell_type": "code",
   "execution_count": null,
   "metadata": {},
   "outputs": [],
   "source": [
    "# Training Loop\n",
    "model.train()\n",
    "optimizer = torch.optim.AdamW(model.parameters(), lr=1e-3)\n",
    "batch_size = 32\n",
    "WIN = []\n",
    "N = 20000\n",
    "for i in range(N):\n",
    "    if i > 0:\n",
    "        optimizer.zero_grad(set_to_none=True)\n",
    "        loss.backward()\n",
    "        optimizer.step()\n",
    "    x, y_target = get_batch(train_data, batch_size, device)\n",
    "    logits=model(x)\n",
    "    loss = model.calc_loss(logits, y_target)\n",
    "    WIN.append(loss.detach().cpu().item())\n",
    "    if (i+1) % 100 == 0:\n",
    "        avg_loss = np.mean(WIN)\n",
    "        WIN=[]\n",
    "        lossi.append(avg_loss)\n",
    "\n",
    "if lossi:\n",
    "    print(f\"{lossi[-1]=}\")\n"
   ]
  },
  {
   "cell_type": "code",
   "execution_count": null,
   "metadata": {},
   "outputs": [],
   "source": [
    "if lossi:\n",
    "    plt.figure(figsize=(20,5))\n",
    "    plt.grid()\n",
    "    plt.plot(lossi)"
   ]
  },
  {
   "cell_type": "code",
   "execution_count": null,
   "metadata": {},
   "outputs": [],
   "source": [
    "# Validation Loop\n",
    "model.eval()\n",
    "batch_size = 32\n",
    "WIN=[]\n",
    "for _ in range(100):\n",
    "    x, y_target = get_batch(val_data, batch_size, device)\n",
    "    logits = model(x)\n",
    "    loss = model.calc_loss(logits, y_target)\n",
    "    WIN.append(loss.detach().cpu().item())\n",
    "print(\"loss:\", np.mean(WIN))"
   ]
  },
  {
   "cell_type": "code",
   "execution_count": null,
   "metadata": {},
   "outputs": [],
   "source": [
    "model.eval()\n",
    "#xx, _ = get_batch(val_data, 1, device)\n",
    "xx = torch.zeros((1,1), dtype=torch.long)\n",
    "yy = generate(xx, 100)\n",
    "for i in range(len(xx)):\n",
    "    print(decode(yy[i]))"
   ]
  },
  {
   "cell_type": "markdown",
   "metadata": {},
   "source": []
  },
  {
   "cell_type": "code",
   "execution_count": null,
   "metadata": {},
   "outputs": [],
   "source": [
    "max_f32=np.finfo(np.float32).max\n",
    "\n",
    "#x = torch.softmax(torch.tril(torch.zeros((4,4)) + max_f32) - max_f32-100, dim=-1)\n",
    "#x\n",
    "torch.tril(-torch.zeros((8,8)) ** -1, diagonal=-1).transpose(0,1).softmax(-1)\n",
    "\n",
    "#torch.tensor([0,0,n_inf], dtype=torch.float32).softmax(0)"
   ]
  }
 ],
 "metadata": {
  "kernelspec": {
   "display_name": "base",
   "language": "python",
   "name": "python3"
  },
  "language_info": {
   "codemirror_mode": {
    "name": "ipython",
    "version": 3
   },
   "file_extension": ".py",
   "mimetype": "text/x-python",
   "name": "python",
   "nbconvert_exporter": "python",
   "pygments_lexer": "ipython3",
   "version": "3.8.13"
  },
  "orig_nbformat": 4
 },
 "nbformat": 4,
 "nbformat_minor": 2
}
